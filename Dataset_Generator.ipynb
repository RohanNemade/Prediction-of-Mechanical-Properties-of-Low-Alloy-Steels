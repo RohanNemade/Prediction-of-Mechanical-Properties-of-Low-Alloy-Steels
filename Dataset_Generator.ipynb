{
  "nbformat": 4,
  "nbformat_minor": 0,
  "metadata": {
    "colab": {
      "name": "Dataset_Generator.ipynb",
      "provenance": [],
      "mount_file_id": "1-6J0Mq3OeBsOY2mLpMI6w0vynPKF-Bz8",
      "authorship_tag": "ABX9TyO4mNRmLuIEQhlk8YJcTPHG",
      "include_colab_link": true
    },
    "kernelspec": {
      "name": "python3",
      "display_name": "Python 3"
    },
    "language_info": {
      "name": "python"
    }
  },
  "cells": [
    {
      "cell_type": "markdown",
      "metadata": {
        "id": "view-in-github",
        "colab_type": "text"
      },
      "source": [
        "<a href=\"https://colab.research.google.com/github/RohanNemade/Prediction-of-Mechanical-Properties-of-Low-Alloy-Steels/blob/main/Dataset_Generator.ipynb\" target=\"_parent\"><img src=\"https://colab.research.google.com/assets/colab-badge.svg\" alt=\"Open In Colab\"/></a>"
      ]
    },
    {
      "cell_type": "code",
      "metadata": {
        "id": "uR6nU_KfZBbn",
        "colab": {
          "base_uri": "https://localhost:8080/"
        },
        "outputId": "21b2bb43-87ce-4cdc-efc0-ec92f6e76070"
      },
      "source": [
        "import pandas as pd\n",
        "import numpy as np\n",
        "\n",
        "num = 40\n",
        "\n",
        "comp = pd.read_csv('/content/drive/MyDrive/UG Project/' + str(num) + 'comp.csv')\n",
        "strength = pd.read_csv('/content/drive/MyDrive/UG Project/' + str(num) + 'strength.csv')\n",
        "percentage = pd.read_csv('/content/drive/MyDrive/UG Project/' + str(num) + ' %.csv', header=None)\n",
        "\n",
        "coloumn_names = []\n",
        "coloumn_names += list(comp)\n",
        "coloumn_names += ['Temperature (°C)', '0.2% Proof Stress (MPa)', 'Tensile Strength (MPa)', 'Elongation (%)', 'Reduction in Area (%)']\n",
        "print(coloumn_names)\n",
        "\n",
        "temperatures = list(strength)[1:]\n",
        "print(temperatures)\n",
        "\n",
        "codes = list(comp['code'])\n",
        "print(codes)\n",
        "\n",
        "metals = list(comp)[1:]\n",
        "print(metals)\n",
        "\n",
        "main_list = []\n",
        "main_list.append(coloumn_names)\n",
        "for i in range(len(codes)):\n",
        "    for j in range(len(temperatures)):\n",
        "        lst = []\n",
        "        lst.append(codes[i])\n",
        "        for k in range(len(metals)):\n",
        "            lst.append(comp[str(metals[k])][i])\n",
        "        lst.append(temperatures[j])\n",
        "        x = strength[str(temperatures[j])][i]\n",
        "        y = percentage[j+1][i]\n",
        "        proof = x[:3]\n",
        "        tensile = x[4:]\n",
        "        elong = y[:2]\n",
        "        redu = y[3:]\n",
        "        lst.append(proof)\n",
        "        lst.append(tensile)\n",
        "        lst.append(elong)\n",
        "        lst.append(redu)\n",
        "        main_list.append(lst)     \n",
        "\n",
        "np.savetxt(str(num) + '.csv', X=main_list, delimiter=', ', fmt='% s')"
      ],
      "execution_count": null,
      "outputs": [
        {
          "output_type": "stream",
          "text": [
            "['code', 'C', 'Si', 'Mn', 'P', 'S', 'Ni', 'Cr', 'Mo', 'Cu', 'V', 'Al', 'N', 'Ceq', 'Temperature (°C)', '0.2% Proof Stress (MPa)', 'Tensile Strength (MPa)', 'Elongation (%)', 'Reduction in Area (%)']\n",
            "['RT', '100', '200', '300', '350', '400', '450', '500', '550', '600']\n",
            "['CbA', 'CbB', 'CbC', 'CbD', 'CbE', 'CbF', 'CbG', 'CbH', 'CbJ', 'CbL', 'CbM', 'CbN', 'CbR', 'CbS', 'CbT', 'CbU', 'CbV', 'CbW', 'CbX', 'CbY', 'CbZ']\n",
            "['C', 'Si', 'Mn', 'P', 'S', 'Ni', 'Cr', 'Mo', 'Cu', 'V', 'Al', 'N', 'Ceq']\n"
          ],
          "name": "stdout"
        }
      ]
    },
    {
      "cell_type": "code",
      "metadata": {
        "id": "ala_E-iLsThv"
      },
      "source": [
        ""
      ],
      "execution_count": null,
      "outputs": []
    }
  ]
}